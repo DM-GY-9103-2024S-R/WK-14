{
 "cells": [
  {
   "cell_type": "code",
   "execution_count": null,
   "metadata": {},
   "outputs": [],
   "source": [
    "!wget -q https://github.com/DM-GY-9103-2024S-R/9103-utils/raw/main/src/data_utils.py\n",
    "!wget -q https://github.com/DM-GY-9103-2024S-R/9103-utils/raw/main/src/io_utils.py"
   ]
  },
  {
   "cell_type": "code",
   "execution_count": null,
   "metadata": {},
   "outputs": [],
   "source": [
    "import matplotlib.pyplot as plt\n",
    "import numpy as np\n",
    "\n",
    "from sklearn.linear_model import LinearRegression\n",
    "\n",
    "from io_utils import object_from_json_url"
   ]
  },
  {
   "cell_type": "code",
   "execution_count": null,
   "metadata": {},
   "outputs": [],
   "source": [
    "import random\n",
    "\n",
    "from sklearn.preprocessing import PolynomialFeatures\n",
    "from matplotlib.colors import to_rgb, to_rgba\n",
    "\n",
    "X = np.linspace(0, 30, 50)\n",
    "y_raw = [(5 * (x - 12) ** 3 - 17 * (x + 1) ** 2 - x + random.gauss(0, x * 100)) for x in X]\n",
    "y = np.array([y / 15000 + 2 for y in y_raw])\n",
    "\n",
    "X_plot = np.array([x + random.gauss(0, 2) for x in X])\n",
    "color_yes = to_rgba(\"#1f77b4ff\")\n",
    "color_no = to_rgba(\"#1f77b400\")\n",
    "\n",
    "cs = np.array([color_yes if random.randint(0, 4) < 2 else color_no for _ in X_plot])\n",
    "\n",
    "plt.figure(figsize=(9, 6.75), dpi=150)\n",
    "plt.scatter(X_plot, y, c=cs, marker='o', linestyle='')\n",
    "plt.xlabel(\"experience\")\n",
    "plt.ylabel(\"wage\")\n",
    "plt.xlim(-2, 32)\n",
    "plt.ylim(0.9, 3.6)\n",
    "plt.show()"
   ]
  },
  {
   "cell_type": "code",
   "execution_count": null,
   "metadata": {},
   "outputs": [],
   "source": [
    "poly = PolynomialFeatures(degree=3, include_bias=False)\n",
    "X_poly = poly.fit_transform(X.reshape(-1,1))\n",
    "\n",
    "model = LinearRegression()\n",
    "model.fit(X_poly, y)\n",
    "beta = np.insert(model.coef_, 0, model.intercept_)\n",
    "\n",
    "X_fit = np.linspace(-2, 32, 250)\n",
    "y_fit = np.array([beta[0] + beta[1] * x + beta[2] * x ** 2 + beta[3] * x ** 3 for x in X_fit])\n",
    "\n",
    "plt.figure(figsize=(9, 6.75), dpi=150)\n",
    "plt.scatter(X_plot, y, c=cs, marker='o', linestyle='')\n",
    "plt.plot(X_fit, y_fit, 'r')\n",
    "plt.xlabel(\"experience\")\n",
    "plt.ylabel(\"wage\")\n",
    "plt.xlim(-2, 32)\n",
    "plt.ylim(0.9, 3.6)\n",
    "plt.show()"
   ]
  }
 ],
 "metadata": {
  "kernelspec": {
   "display_name": "9103",
   "language": "python",
   "name": "python3"
  },
  "language_info": {
   "codemirror_mode": {
    "name": "ipython",
    "version": 3
   },
   "file_extension": ".py",
   "mimetype": "text/x-python",
   "name": "python",
   "nbconvert_exporter": "python",
   "pygments_lexer": "ipython3",
   "version": "3.10.13"
  }
 },
 "nbformat": 4,
 "nbformat_minor": 2
}
